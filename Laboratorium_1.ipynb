{
  "nbformat": 4,
  "nbformat_minor": 0,
  "metadata": {
    "colab": {
      "name": "Laboratorium_1.ipynb",
      "provenance": [],
      "collapsed_sections": []
    },
    "kernelspec": {
      "name": "python3",
      "display_name": "Python 3"
    }
  },
  "cells": [
    {
      "cell_type": "markdown",
      "metadata": {
        "id": "d3ZtHOMI7_Vp"
      },
      "source": [
        "## Laboratorium 1\n",
        "### Wykonali: Adam Gawryś, Dawid Kleina"
      ]
    },
    {
      "cell_type": "markdown",
      "metadata": {
        "id": "Uo3dakqwH9dC"
      },
      "source": [
        "### Import bibliotek:"
      ]
    },
    {
      "cell_type": "code",
      "metadata": {
        "id": "9Ld160UecVVn"
      },
      "source": [
        "import numpy as np\n",
        "import pandas as pd \n",
        "import seaborn as sns\n",
        "import matplotlib.pyplot as plt\n",
        "import requests\n",
        "from bs4 import BeautifulSoup"
      ],
      "execution_count": null,
      "outputs": []
    },
    {
      "cell_type": "markdown",
      "metadata": {
        "id": "cBtdtyv_IM4x"
      },
      "source": [
        "### Zadanie nr 1"
      ]
    },
    {
      "cell_type": "markdown",
      "metadata": {
        "id": "Bz-qU5DhISC6"
      },
      "source": [
        "Załadowanie pliku csv z danymi:"
      ]
    },
    {
      "cell_type": "code",
      "metadata": {
        "id": "5lndaXn-cdJ1"
      },
      "source": [
        "data = pd.read_csv(\"../content/netflix_titles.csv\")"
      ],
      "execution_count": null,
      "outputs": []
    },
    {
      "cell_type": "markdown",
      "metadata": {
        "id": "wTMDRSzPIXA3"
      },
      "source": [
        "a) Ilość wczytanych wierszy danych:"
      ]
    },
    {
      "cell_type": "code",
      "metadata": {
        "id": "j4pvyxMEiJ4M",
        "colab": {
          "base_uri": "https://localhost:8080/"
        },
        "outputId": "b2063c61-8dd3-4d56-95ad-1a436822e56c"
      },
      "source": [
        "len(data.index)"
      ],
      "execution_count": null,
      "outputs": [
        {
          "output_type": "execute_result",
          "data": {
            "text/plain": [
              "7787"
            ]
          },
          "metadata": {
            "tags": []
          },
          "execution_count": 49
        }
      ]
    },
    {
      "cell_type": "markdown",
      "metadata": {
        "id": "oRJ8IDz4Ic7R"
      },
      "source": [
        "b) Wymiar wczytanych danych (kolumny x indeksy)"
      ]
    },
    {
      "cell_type": "code",
      "metadata": {
        "id": "4LcbPQpYiO5L",
        "colab": {
          "base_uri": "https://localhost:8080/"
        },
        "outputId": "3e58d66b-cfe2-4bd9-d215-580b4ef153aa"
      },
      "source": [
        "data.shape"
      ],
      "execution_count": null,
      "outputs": [
        {
          "output_type": "execute_result",
          "data": {
            "text/plain": [
              "(7787, 12)"
            ]
          },
          "metadata": {
            "tags": []
          },
          "execution_count": 50
        }
      ]
    },
    {
      "cell_type": "markdown",
      "metadata": {
        "id": "vf2cT9yhIh1H"
      },
      "source": [
        "c) Zlicz ilość wartość pustych (jeśli w są) w każdej z kolumn"
      ]
    },
    {
      "cell_type": "code",
      "metadata": {
        "id": "VmjwQJk9nEWl",
        "colab": {
          "base_uri": "https://localhost:8080/"
        },
        "outputId": "1b2ac2ee-13ba-4fa0-adbb-cf6a66299bcb"
      },
      "source": [
        "data.isnull().sum()"
      ],
      "execution_count": null,
      "outputs": [
        {
          "output_type": "execute_result",
          "data": {
            "text/plain": [
              "show_id            0\n",
              "type               0\n",
              "title              0\n",
              "director        2389\n",
              "cast             718\n",
              "country          507\n",
              "date_added        10\n",
              "release_year       0\n",
              "rating             7\n",
              "duration           0\n",
              "listed_in          0\n",
              "description        0\n",
              "dtype: int64"
            ]
          },
          "metadata": {
            "tags": []
          },
          "execution_count": 51
        }
      ]
    },
    {
      "cell_type": "markdown",
      "metadata": {
        "id": "xHn36YaiIHah"
      },
      "source": [
        "### Zadanie nr 2\n"
      ]
    },
    {
      "cell_type": "markdown",
      "metadata": {
        "id": "PjYpFpXDI1c0"
      },
      "source": [
        "Załadowanie danych z biblioteki Seaborn:"
      ]
    },
    {
      "cell_type": "code",
      "metadata": {
        "id": "dVLpNN7Wn8St",
        "colab": {
          "base_uri": "https://localhost:8080/",
          "height": 402
        },
        "outputId": "f0f7e3c3-3105-417d-f08f-a95cf10e97ec"
      },
      "source": [
        "data_titanic = sns.load_dataset('titanic')\n",
        "data_titanic "
      ],
      "execution_count": null,
      "outputs": [
        {
          "output_type": "execute_result",
          "data": {
            "text/html": [
              "<div>\n",
              "<style scoped>\n",
              "    .dataframe tbody tr th:only-of-type {\n",
              "        vertical-align: middle;\n",
              "    }\n",
              "\n",
              "    .dataframe tbody tr th {\n",
              "        vertical-align: top;\n",
              "    }\n",
              "\n",
              "    .dataframe thead th {\n",
              "        text-align: right;\n",
              "    }\n",
              "</style>\n",
              "<table border=\"1\" class=\"dataframe\">\n",
              "  <thead>\n",
              "    <tr style=\"text-align: right;\">\n",
              "      <th></th>\n",
              "      <th>survived</th>\n",
              "      <th>pclass</th>\n",
              "      <th>sex</th>\n",
              "      <th>age</th>\n",
              "      <th>sibsp</th>\n",
              "      <th>parch</th>\n",
              "      <th>fare</th>\n",
              "      <th>embarked</th>\n",
              "      <th>class</th>\n",
              "      <th>who</th>\n",
              "      <th>adult_male</th>\n",
              "      <th>deck</th>\n",
              "      <th>embark_town</th>\n",
              "      <th>alive</th>\n",
              "      <th>alone</th>\n",
              "    </tr>\n",
              "  </thead>\n",
              "  <tbody>\n",
              "    <tr>\n",
              "      <th>0</th>\n",
              "      <td>0</td>\n",
              "      <td>3</td>\n",
              "      <td>male</td>\n",
              "      <td>22.0</td>\n",
              "      <td>1</td>\n",
              "      <td>0</td>\n",
              "      <td>7.2500</td>\n",
              "      <td>S</td>\n",
              "      <td>Third</td>\n",
              "      <td>man</td>\n",
              "      <td>True</td>\n",
              "      <td>NaN</td>\n",
              "      <td>Southampton</td>\n",
              "      <td>no</td>\n",
              "      <td>False</td>\n",
              "    </tr>\n",
              "    <tr>\n",
              "      <th>1</th>\n",
              "      <td>1</td>\n",
              "      <td>1</td>\n",
              "      <td>female</td>\n",
              "      <td>38.0</td>\n",
              "      <td>1</td>\n",
              "      <td>0</td>\n",
              "      <td>71.2833</td>\n",
              "      <td>C</td>\n",
              "      <td>First</td>\n",
              "      <td>woman</td>\n",
              "      <td>False</td>\n",
              "      <td>C</td>\n",
              "      <td>Cherbourg</td>\n",
              "      <td>yes</td>\n",
              "      <td>False</td>\n",
              "    </tr>\n",
              "    <tr>\n",
              "      <th>2</th>\n",
              "      <td>1</td>\n",
              "      <td>3</td>\n",
              "      <td>female</td>\n",
              "      <td>26.0</td>\n",
              "      <td>0</td>\n",
              "      <td>0</td>\n",
              "      <td>7.9250</td>\n",
              "      <td>S</td>\n",
              "      <td>Third</td>\n",
              "      <td>woman</td>\n",
              "      <td>False</td>\n",
              "      <td>NaN</td>\n",
              "      <td>Southampton</td>\n",
              "      <td>yes</td>\n",
              "      <td>True</td>\n",
              "    </tr>\n",
              "    <tr>\n",
              "      <th>3</th>\n",
              "      <td>1</td>\n",
              "      <td>1</td>\n",
              "      <td>female</td>\n",
              "      <td>35.0</td>\n",
              "      <td>1</td>\n",
              "      <td>0</td>\n",
              "      <td>53.1000</td>\n",
              "      <td>S</td>\n",
              "      <td>First</td>\n",
              "      <td>woman</td>\n",
              "      <td>False</td>\n",
              "      <td>C</td>\n",
              "      <td>Southampton</td>\n",
              "      <td>yes</td>\n",
              "      <td>False</td>\n",
              "    </tr>\n",
              "    <tr>\n",
              "      <th>4</th>\n",
              "      <td>0</td>\n",
              "      <td>3</td>\n",
              "      <td>male</td>\n",
              "      <td>35.0</td>\n",
              "      <td>0</td>\n",
              "      <td>0</td>\n",
              "      <td>8.0500</td>\n",
              "      <td>S</td>\n",
              "      <td>Third</td>\n",
              "      <td>man</td>\n",
              "      <td>True</td>\n",
              "      <td>NaN</td>\n",
              "      <td>Southampton</td>\n",
              "      <td>no</td>\n",
              "      <td>True</td>\n",
              "    </tr>\n",
              "    <tr>\n",
              "      <th>...</th>\n",
              "      <td>...</td>\n",
              "      <td>...</td>\n",
              "      <td>...</td>\n",
              "      <td>...</td>\n",
              "      <td>...</td>\n",
              "      <td>...</td>\n",
              "      <td>...</td>\n",
              "      <td>...</td>\n",
              "      <td>...</td>\n",
              "      <td>...</td>\n",
              "      <td>...</td>\n",
              "      <td>...</td>\n",
              "      <td>...</td>\n",
              "      <td>...</td>\n",
              "      <td>...</td>\n",
              "    </tr>\n",
              "    <tr>\n",
              "      <th>886</th>\n",
              "      <td>0</td>\n",
              "      <td>2</td>\n",
              "      <td>male</td>\n",
              "      <td>27.0</td>\n",
              "      <td>0</td>\n",
              "      <td>0</td>\n",
              "      <td>13.0000</td>\n",
              "      <td>S</td>\n",
              "      <td>Second</td>\n",
              "      <td>man</td>\n",
              "      <td>True</td>\n",
              "      <td>NaN</td>\n",
              "      <td>Southampton</td>\n",
              "      <td>no</td>\n",
              "      <td>True</td>\n",
              "    </tr>\n",
              "    <tr>\n",
              "      <th>887</th>\n",
              "      <td>1</td>\n",
              "      <td>1</td>\n",
              "      <td>female</td>\n",
              "      <td>19.0</td>\n",
              "      <td>0</td>\n",
              "      <td>0</td>\n",
              "      <td>30.0000</td>\n",
              "      <td>S</td>\n",
              "      <td>First</td>\n",
              "      <td>woman</td>\n",
              "      <td>False</td>\n",
              "      <td>B</td>\n",
              "      <td>Southampton</td>\n",
              "      <td>yes</td>\n",
              "      <td>True</td>\n",
              "    </tr>\n",
              "    <tr>\n",
              "      <th>888</th>\n",
              "      <td>0</td>\n",
              "      <td>3</td>\n",
              "      <td>female</td>\n",
              "      <td>NaN</td>\n",
              "      <td>1</td>\n",
              "      <td>2</td>\n",
              "      <td>23.4500</td>\n",
              "      <td>S</td>\n",
              "      <td>Third</td>\n",
              "      <td>woman</td>\n",
              "      <td>False</td>\n",
              "      <td>NaN</td>\n",
              "      <td>Southampton</td>\n",
              "      <td>no</td>\n",
              "      <td>False</td>\n",
              "    </tr>\n",
              "    <tr>\n",
              "      <th>889</th>\n",
              "      <td>1</td>\n",
              "      <td>1</td>\n",
              "      <td>male</td>\n",
              "      <td>26.0</td>\n",
              "      <td>0</td>\n",
              "      <td>0</td>\n",
              "      <td>30.0000</td>\n",
              "      <td>C</td>\n",
              "      <td>First</td>\n",
              "      <td>man</td>\n",
              "      <td>True</td>\n",
              "      <td>C</td>\n",
              "      <td>Cherbourg</td>\n",
              "      <td>yes</td>\n",
              "      <td>True</td>\n",
              "    </tr>\n",
              "    <tr>\n",
              "      <th>890</th>\n",
              "      <td>0</td>\n",
              "      <td>3</td>\n",
              "      <td>male</td>\n",
              "      <td>32.0</td>\n",
              "      <td>0</td>\n",
              "      <td>0</td>\n",
              "      <td>7.7500</td>\n",
              "      <td>Q</td>\n",
              "      <td>Third</td>\n",
              "      <td>man</td>\n",
              "      <td>True</td>\n",
              "      <td>NaN</td>\n",
              "      <td>Queenstown</td>\n",
              "      <td>no</td>\n",
              "      <td>True</td>\n",
              "    </tr>\n",
              "  </tbody>\n",
              "</table>\n",
              "<p>891 rows × 15 columns</p>\n",
              "</div>"
            ],
            "text/plain": [
              "     survived  pclass     sex   age  ...  deck  embark_town  alive  alone\n",
              "0           0       3    male  22.0  ...   NaN  Southampton     no  False\n",
              "1           1       1  female  38.0  ...     C    Cherbourg    yes  False\n",
              "2           1       3  female  26.0  ...   NaN  Southampton    yes   True\n",
              "3           1       1  female  35.0  ...     C  Southampton    yes  False\n",
              "4           0       3    male  35.0  ...   NaN  Southampton     no   True\n",
              "..        ...     ...     ...   ...  ...   ...          ...    ...    ...\n",
              "886         0       2    male  27.0  ...   NaN  Southampton     no   True\n",
              "887         1       1  female  19.0  ...     B  Southampton    yes   True\n",
              "888         0       3  female   NaN  ...   NaN  Southampton     no  False\n",
              "889         1       1    male  26.0  ...     C    Cherbourg    yes   True\n",
              "890         0       3    male  32.0  ...   NaN   Queenstown     no   True\n",
              "\n",
              "[891 rows x 15 columns]"
            ]
          },
          "metadata": {
            "tags": []
          },
          "execution_count": 52
        }
      ]
    },
    {
      "cell_type": "markdown",
      "metadata": {
        "id": "SsPIYnqoI-qD"
      },
      "source": [
        "a) Zlicz ile jest wartości pustych w zbiorze NaN:"
      ]
    },
    {
      "cell_type": "code",
      "metadata": {
        "colab": {
          "base_uri": "https://localhost:8080/"
        },
        "id": "36xFWlh_rpLb",
        "outputId": "c04fb4b6-1b35-4ca2-f41c-a3d56cce07cb"
      },
      "source": [
        "data_titanic.isna().sum().sum()"
      ],
      "execution_count": null,
      "outputs": [
        {
          "output_type": "execute_result",
          "data": {
            "text/plain": [
              "869"
            ]
          },
          "metadata": {
            "tags": []
          },
          "execution_count": 53
        }
      ]
    },
    {
      "cell_type": "markdown",
      "metadata": {
        "id": "_rD0RALOJEYZ"
      },
      "source": [
        "b) Zlicz ilość wartość pustych (null) w każdej kolumnie, a wynik zapisz w postaci sumy\n",
        "skumulowanej:"
      ]
    },
    {
      "cell_type": "code",
      "metadata": {
        "colab": {
          "base_uri": "https://localhost:8080/"
        },
        "id": "_guSR8myr24z",
        "outputId": "8d91d504-067c-4e0b-f127-3af2ea443e4d"
      },
      "source": [
        "data_titanic.isnull().cumsum().sum().sum()"
      ],
      "execution_count": null,
      "outputs": [
        {
          "output_type": "execute_result",
          "data": {
            "text/plain": [
              "391442"
            ]
          },
          "metadata": {
            "tags": []
          },
          "execution_count": 54
        }
      ]
    },
    {
      "cell_type": "markdown",
      "metadata": {
        "id": "rNV9ghYeJQ73"
      },
      "source": [
        "c) Usuń te kolumny, jeśli takie istnieją dla których liczba wartości pustych jest większa\n",
        "niż 30% wielkości pobranego zbioru danych:"
      ]
    },
    {
      "cell_type": "code",
      "metadata": {
        "id": "R4Xa1TztEjpo"
      },
      "source": [
        "data_titanic = data_titanic.drop(data_titanic.columns[data_titanic.apply(lambda col: col.isnull().sum() > 0.3)], axis=1)"
      ],
      "execution_count": null,
      "outputs": []
    },
    {
      "cell_type": "code",
      "metadata": {
        "id": "or6PpcU0Hsja",
        "colab": {
          "base_uri": "https://localhost:8080/",
          "height": 402
        },
        "outputId": "dbbf9551-d868-40de-b093-b9c72b7f1545"
      },
      "source": [
        "data_titanic"
      ],
      "execution_count": null,
      "outputs": [
        {
          "output_type": "execute_result",
          "data": {
            "text/html": [
              "<div>\n",
              "<style scoped>\n",
              "    .dataframe tbody tr th:only-of-type {\n",
              "        vertical-align: middle;\n",
              "    }\n",
              "\n",
              "    .dataframe tbody tr th {\n",
              "        vertical-align: top;\n",
              "    }\n",
              "\n",
              "    .dataframe thead th {\n",
              "        text-align: right;\n",
              "    }\n",
              "</style>\n",
              "<table border=\"1\" class=\"dataframe\">\n",
              "  <thead>\n",
              "    <tr style=\"text-align: right;\">\n",
              "      <th></th>\n",
              "      <th>survived</th>\n",
              "      <th>pclass</th>\n",
              "      <th>sex</th>\n",
              "      <th>sibsp</th>\n",
              "      <th>parch</th>\n",
              "      <th>fare</th>\n",
              "      <th>class</th>\n",
              "      <th>who</th>\n",
              "      <th>adult_male</th>\n",
              "      <th>alive</th>\n",
              "      <th>alone</th>\n",
              "    </tr>\n",
              "  </thead>\n",
              "  <tbody>\n",
              "    <tr>\n",
              "      <th>0</th>\n",
              "      <td>0</td>\n",
              "      <td>3</td>\n",
              "      <td>male</td>\n",
              "      <td>1</td>\n",
              "      <td>0</td>\n",
              "      <td>7.2500</td>\n",
              "      <td>Third</td>\n",
              "      <td>man</td>\n",
              "      <td>True</td>\n",
              "      <td>no</td>\n",
              "      <td>False</td>\n",
              "    </tr>\n",
              "    <tr>\n",
              "      <th>1</th>\n",
              "      <td>1</td>\n",
              "      <td>1</td>\n",
              "      <td>female</td>\n",
              "      <td>1</td>\n",
              "      <td>0</td>\n",
              "      <td>71.2833</td>\n",
              "      <td>First</td>\n",
              "      <td>woman</td>\n",
              "      <td>False</td>\n",
              "      <td>yes</td>\n",
              "      <td>False</td>\n",
              "    </tr>\n",
              "    <tr>\n",
              "      <th>2</th>\n",
              "      <td>1</td>\n",
              "      <td>3</td>\n",
              "      <td>female</td>\n",
              "      <td>0</td>\n",
              "      <td>0</td>\n",
              "      <td>7.9250</td>\n",
              "      <td>Third</td>\n",
              "      <td>woman</td>\n",
              "      <td>False</td>\n",
              "      <td>yes</td>\n",
              "      <td>True</td>\n",
              "    </tr>\n",
              "    <tr>\n",
              "      <th>3</th>\n",
              "      <td>1</td>\n",
              "      <td>1</td>\n",
              "      <td>female</td>\n",
              "      <td>1</td>\n",
              "      <td>0</td>\n",
              "      <td>53.1000</td>\n",
              "      <td>First</td>\n",
              "      <td>woman</td>\n",
              "      <td>False</td>\n",
              "      <td>yes</td>\n",
              "      <td>False</td>\n",
              "    </tr>\n",
              "    <tr>\n",
              "      <th>4</th>\n",
              "      <td>0</td>\n",
              "      <td>3</td>\n",
              "      <td>male</td>\n",
              "      <td>0</td>\n",
              "      <td>0</td>\n",
              "      <td>8.0500</td>\n",
              "      <td>Third</td>\n",
              "      <td>man</td>\n",
              "      <td>True</td>\n",
              "      <td>no</td>\n",
              "      <td>True</td>\n",
              "    </tr>\n",
              "    <tr>\n",
              "      <th>...</th>\n",
              "      <td>...</td>\n",
              "      <td>...</td>\n",
              "      <td>...</td>\n",
              "      <td>...</td>\n",
              "      <td>...</td>\n",
              "      <td>...</td>\n",
              "      <td>...</td>\n",
              "      <td>...</td>\n",
              "      <td>...</td>\n",
              "      <td>...</td>\n",
              "      <td>...</td>\n",
              "    </tr>\n",
              "    <tr>\n",
              "      <th>886</th>\n",
              "      <td>0</td>\n",
              "      <td>2</td>\n",
              "      <td>male</td>\n",
              "      <td>0</td>\n",
              "      <td>0</td>\n",
              "      <td>13.0000</td>\n",
              "      <td>Second</td>\n",
              "      <td>man</td>\n",
              "      <td>True</td>\n",
              "      <td>no</td>\n",
              "      <td>True</td>\n",
              "    </tr>\n",
              "    <tr>\n",
              "      <th>887</th>\n",
              "      <td>1</td>\n",
              "      <td>1</td>\n",
              "      <td>female</td>\n",
              "      <td>0</td>\n",
              "      <td>0</td>\n",
              "      <td>30.0000</td>\n",
              "      <td>First</td>\n",
              "      <td>woman</td>\n",
              "      <td>False</td>\n",
              "      <td>yes</td>\n",
              "      <td>True</td>\n",
              "    </tr>\n",
              "    <tr>\n",
              "      <th>888</th>\n",
              "      <td>0</td>\n",
              "      <td>3</td>\n",
              "      <td>female</td>\n",
              "      <td>1</td>\n",
              "      <td>2</td>\n",
              "      <td>23.4500</td>\n",
              "      <td>Third</td>\n",
              "      <td>woman</td>\n",
              "      <td>False</td>\n",
              "      <td>no</td>\n",
              "      <td>False</td>\n",
              "    </tr>\n",
              "    <tr>\n",
              "      <th>889</th>\n",
              "      <td>1</td>\n",
              "      <td>1</td>\n",
              "      <td>male</td>\n",
              "      <td>0</td>\n",
              "      <td>0</td>\n",
              "      <td>30.0000</td>\n",
              "      <td>First</td>\n",
              "      <td>man</td>\n",
              "      <td>True</td>\n",
              "      <td>yes</td>\n",
              "      <td>True</td>\n",
              "    </tr>\n",
              "    <tr>\n",
              "      <th>890</th>\n",
              "      <td>0</td>\n",
              "      <td>3</td>\n",
              "      <td>male</td>\n",
              "      <td>0</td>\n",
              "      <td>0</td>\n",
              "      <td>7.7500</td>\n",
              "      <td>Third</td>\n",
              "      <td>man</td>\n",
              "      <td>True</td>\n",
              "      <td>no</td>\n",
              "      <td>True</td>\n",
              "    </tr>\n",
              "  </tbody>\n",
              "</table>\n",
              "<p>891 rows × 11 columns</p>\n",
              "</div>"
            ],
            "text/plain": [
              "     survived  pclass     sex  sibsp  ...    who  adult_male alive  alone\n",
              "0           0       3    male      1  ...    man        True    no  False\n",
              "1           1       1  female      1  ...  woman       False   yes  False\n",
              "2           1       3  female      0  ...  woman       False   yes   True\n",
              "3           1       1  female      1  ...  woman       False   yes  False\n",
              "4           0       3    male      0  ...    man        True    no   True\n",
              "..        ...     ...     ...    ...  ...    ...         ...   ...    ...\n",
              "886         0       2    male      0  ...    man        True    no   True\n",
              "887         1       1  female      0  ...  woman       False   yes   True\n",
              "888         0       3  female      1  ...  woman       False    no  False\n",
              "889         1       1    male      0  ...    man        True   yes   True\n",
              "890         0       3    male      0  ...    man        True    no   True\n",
              "\n",
              "[891 rows x 11 columns]"
            ]
          },
          "metadata": {
            "tags": []
          },
          "execution_count": 56
        }
      ]
    },
    {
      "cell_type": "markdown",
      "metadata": {
        "id": "XsgtpKqSJaOR"
      },
      "source": [
        "d) Zamień dane kategoryczne w kolumnie sex {female,male} na wartości liczbowe {0,1}:"
      ]
    },
    {
      "cell_type": "code",
      "metadata": {
        "id": "TUc-CGd0HpBQ"
      },
      "source": [
        "data_titanic = data_titanic['sex'] = data_titanic['sex'].map({'male' : 1, 'female' : 0})"
      ],
      "execution_count": null,
      "outputs": []
    },
    {
      "cell_type": "markdown",
      "metadata": {
        "id": "zPaDemu5IPuv"
      },
      "source": [
        "### Zadanie nr 3"
      ]
    },
    {
      "cell_type": "markdown",
      "metadata": {
        "id": "kuXCM_99JmAK"
      },
      "source": [
        "Odszukaj profil o nazwie użytkownika: MikiKru. Oblicz statystykę języków programowania publikowanych w powyższym repozytorium, tj. jaki udział procentowy ma danych język programowania względem wszystkich repozytoriów użytkownika MikiKru. Wynik zaprezentuj ja pomocą wykresu kołowego:"
      ]
    },
    {
      "cell_type": "code",
      "metadata": {
        "colab": {
          "base_uri": "https://localhost:8080/"
        },
        "id": "FM4weTYim3JQ",
        "outputId": "96071b4e-8fb8-493c-b560-b08dba0df6a3"
      },
      "source": [
        "url1 = \"https://api.github.com/repos/MikiKru/p2\"\n",
        "zad = pd.read_json(url1, lines = True)\n",
        "print(zad.columns)\n",
        "zad.shape\n",
        "print(zad.language)"
      ],
      "execution_count": null,
      "outputs": [
        {
          "output_type": "stream",
          "text": [
            "Index(['id', 'node_id', 'name', 'full_name', 'private', 'owner', 'html_url',\n",
            "       'description', 'fork', 'url', 'forks_url', 'keys_url',\n",
            "       'collaborators_url', 'teams_url', 'hooks_url', 'issue_events_url',\n",
            "       'events_url', 'assignees_url', 'branches_url', 'tags_url', 'blobs_url',\n",
            "       'git_tags_url', 'git_refs_url', 'trees_url', 'statuses_url',\n",
            "       'languages_url', 'stargazers_url', 'contributors_url',\n",
            "       'subscribers_url', 'subscription_url', 'commits_url', 'git_commits_url',\n",
            "       'comments_url', 'issue_comment_url', 'contents_url', 'compare_url',\n",
            "       'merges_url', 'archive_url', 'downloads_url', 'issues_url', 'pulls_url',\n",
            "       'milestones_url', 'notifications_url', 'labels_url', 'releases_url',\n",
            "       'deployments_url', 'created_at', 'updated_at', 'pushed_at', 'git_url',\n",
            "       'ssh_url', 'clone_url', 'svn_url', 'homepage', 'size',\n",
            "       'stargazers_count', 'watchers_count', 'language', 'has_issues',\n",
            "       'has_projects', 'has_downloads', 'has_wiki', 'has_pages', 'forks_count',\n",
            "       'mirror_url', 'archived', 'disabled', 'open_issues_count', 'license',\n",
            "       'forks', 'open_issues', 'watchers', 'default_branch',\n",
            "       'temp_clone_token', 'network_count', 'subscribers_count'],\n",
            "      dtype='object')\n",
            "0    Java\n",
            "Name: language, dtype: object\n"
          ],
          "name": "stdout"
        }
      ]
    },
    {
      "cell_type": "code",
      "metadata": {
        "id": "_ut123cXIRk-",
        "colab": {
          "base_uri": "https://localhost:8080/"
        },
        "outputId": "0c5f1263-d7a6-4c47-911f-50db9e45328f"
      },
      "source": [
        "url = \"https://api.github.com/users/MikiKru/repos?per_page=110\"\n",
        "repo = pd.read_json(url, lines = False)\n",
        "print(repo.language)\n",
        "repo.language.to_csv(\"jezyki\", index=False, header=True)"
      ],
      "execution_count": null,
      "outputs": [
        {
          "output_type": "stream",
          "text": [
            "0     Python\n",
            "1       None\n",
            "2     Python\n",
            "3       Java\n",
            "4     Python\n",
            "       ...  \n",
            "95      Java\n",
            "96      None\n",
            "97      None\n",
            "98    Python\n",
            "99      None\n",
            "Name: language, Length: 100, dtype: object\n"
          ],
          "name": "stdout"
        }
      ]
    },
    {
      "cell_type": "code",
      "metadata": {
        "colab": {
          "base_uri": "https://localhost:8080/"
        },
        "id": "4ETYzHL1vUry",
        "outputId": "665543ab-c08e-4bb6-a8a1-8553a01426da"
      },
      "source": [
        "repo.to_csv(\"statystyka\", index=False, header=True)\n",
        "repo.shape"
      ],
      "execution_count": null,
      "outputs": [
        {
          "output_type": "execute_result",
          "data": {
            "text/plain": [
              "(100, 73)"
            ]
          },
          "metadata": {
            "tags": []
          },
          "execution_count": 60
        }
      ]
    },
    {
      "cell_type": "code",
      "metadata": {
        "id": "1vi1Lm0coyzs"
      },
      "source": [
        "lan = repo['language'].value_counts()"
      ],
      "execution_count": null,
      "outputs": []
    },
    {
      "cell_type": "code",
      "metadata": {
        "colab": {
          "base_uri": "https://localhost:8080/",
          "height": 411
        },
        "id": "Kg56zSaEs6ko",
        "outputId": "61d7267a-8ee7-4a97-f922-c4d70b4a770c"
      },
      "source": [
        "lan.plot(kind='pie')\n",
        "\n",
        "plt.legend(bbox_to_anchor=(0., 1.02, 1., .102))\n",
        "\n",
        "plt.show()"
      ],
      "execution_count": null,
      "outputs": [
        {
          "output_type": "display_data",
          "data": {
            "image/png": "[encoded data removed]",
            "text/plain": [
              "<Figure size 432x288 with 1 Axes>"
            ]
          },
          "metadata": {
            "tags": []
          }
        }
      ]
    },
    {
      "cell_type": "markdown",
      "metadata": {
        "id": "n2k4KUIRHvQ0"
      },
      "source": [
        "### Zadanie 4"
      ]
    },
    {
      "cell_type": "markdown",
      "metadata": {
        "id": "PSkzboUYJu1H"
      },
      "source": [
        "Wykorzystując biblioteki Requests oraz BeautifulSoup pobierz informacje o temperaturze w\n",
        "dniu wykonywania żądania oraz prognozę temperatury na kolejny dzień (dzień / noc):"
      ]
    },
    {
      "cell_type": "code",
      "metadata": {
        "colab": {
          "base_uri": "https://localhost:8080/"
        },
        "id": "-g8tTiWFodh7",
        "outputId": "87fb9a2d-7d76-430d-aa9d-a7c951755da3"
      },
      "source": [
        "tem = requests.get('https://pogoda.interia.pl/prognoza-szczegolowa-mirotki,cId,21515')\n",
        "html = BeautifulSoup(tem.content, 'html.parser')\n",
        "\n",
        "tem1 = requests.get('https://pogoda.interia.pl/prognoza-dlugoterminowa-mirotki,cId,21515')\n",
        "html1 = BeautifulSoup(tem1.content, 'html.parser')\n",
        "\n",
        "date1 = 'weather-forecast-hbh-day-labelRight'\n",
        "day1 = html.find(\"span\", attrs={'class' : date1})\n",
        "hour1 = 'weather-currently-info-item-time'\n",
        "day2 = html.find(\"span\", attrs={'class' : hour1})\n",
        "print(\"Dzień: \" + str(day1).replace('<span class=\"weather-forecast-hbh-day-labelRight\">',\"\").replace(\"</span>\",\"\") + \" \" + str(day2).replace('<span class=\"weather-currently-info-item-time\">',\"\").replace(\"</span>\",\"\"))\n",
        "\n",
        "dzis = 'weather-currently-temp-strict'\n",
        "temperature_now = html.find(\"div\", attrs={'class' : dzis})\n",
        "print(\"Dzisiaj: \" + str(temperature_now).replace('<div class=\"weather-currently-temp-strict\">',\"\").replace(\"</div>\",\"\"))\n",
        "\n",
        "jutro_dzien = 'weather-currently-middle-forecast-temperature-max'\n",
        "temperature_tom_d = html1.find(\"span\", attrs={'class' : jutro_dzien}).get_text()\n",
        "jutro_noc = 'weather-currently-middle-forecast-temperature-min'\n",
        "temperature_tom_n = html1.find(\"span\", attrs={'class' : jutro_noc}).get_text()\n",
        "print(\"Jutro: \" + str(temperature_tom_d).replace('<span class=\"weather-currently-middle-forecast-temperature-max\">',\"\").replace(\"</span>\",\"\") + \"/\" + str(temperature_tom_n).replace('<span class=\"weather-currently-middle-forecast-temperature-min\">',\"\").replace(\"</span>\",\"\"))\n"
      ],
      "execution_count": null,
      "outputs": [
        {
          "output_type": "stream",
          "text": [
            "Dzień: Sobota, 13 Marca 11:35\n",
            "Dzisiaj: 6°C\n",
            "Jutro: 5°C/0°C\n"
          ],
          "name": "stdout"
        }
      ]
    },
    {
      "cell_type": "markdown",
      "metadata": {
        "id": "R7am2ZV97WkH"
      },
      "source": [
        "### Wnioski"
      ]
    },
    {
      "cell_type": "markdown",
      "metadata": {
        "id": "pccmpdN87bZU"
      },
      "source": [
        "Same labolatorium przebiegło sprawnie. Było bardzo dobrze wytłumaczone, krok po kroku jak co robić. Zadania to idealna powtórka tego co już mieliśmy oraz idealny sposób na naukę nowych, nieznanych rzeczy. Nie wiedzieliśmy, że w Pythonie możemy poruszać się po stronach internetowych i za jego pomocą wyciągać jakieś dane. Sam ten motym jest przydatny i na pewno znajdzie dla nas zastosowanie. "
      ]
    }
  ]
}